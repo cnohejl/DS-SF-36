{
 "cells": [
  {
   "cell_type": "code",
   "execution_count": 6,
   "metadata": {
    "collapsed": true
   },
   "outputs": [],
   "source": [
    "def mean(xs):\n",
    "    n = len(xs)\n",
    "    if n == 0:\n",
    "        return None\n",
    "\n",
    "    accumulator = 0.\n",
    "\n",
    "    for x in xs:\n",
    "        accumulator += x\n",
    "\n",
    "    return accumulator / n"
   ]
  },
  {
   "cell_type": "code",
   "execution_count": 7,
   "metadata": {
    "collapsed": false
   },
   "outputs": [
    {
     "data": {
      "text/plain": [
       "9.0"
      ]
     },
     "execution_count": 7,
     "metadata": {},
     "output_type": "execute_result"
    }
   ],
   "source": [
    "xs = [10, 8, 13, 9, 11, 14, 6, 4, 12, 7, 5]\n",
    "\n",
    "mean(xs)"
   ]
  },
  {
   "cell_type": "code",
   "execution_count": 1,
   "metadata": {
    "collapsed": true
   },
   "outputs": [],
   "source": [
    "#Question4"
   ]
  },
  {
   "cell_type": "code",
   "execution_count": null,
   "metadata": {
    "collapsed": true
   },
   "outputs": [],
   "source": [
    "output=[]\n",
    "for g in range(2,600851475143):\n",
    "    prime=True\n",
    "    for p in range(2,g):\n",
    "        if (p%i==0):\n",
    "            prime=False\n",
    "    if prime:\n",
    "        output.append(g)\n",
    "print output"
   ]
  },
  {
   "cell_type": "code",
   "execution_count": null,
   "metadata": {
    "collapsed": true
   },
   "outputs": [],
   "source": [
    "# what numbers go into the answer\n",
    "# which ones are prime\n",
    "# what is the largest number\n",
    "\n",
    "output=[]\n",
    "for g in range(2,600851475143):\n",
    "    prime=True\n",
    "    for p in range(2,g):\n",
    "        if (p%i==0):\n",
    "            prime=False\n",
    "    if prime:\n",
    "        output.append(g)\n",
    "print output\n",
    "\n",
    "#For loop with if statement - check which of results go into 600851475143\n",
    "\n",
    "factors=[]\n",
    "for s in [output]:\n",
    "    factor = True\n",
    "    if (600851475143%s==0):\n",
    "        factor=True\n",
    "    else (600851475143%s!=0):\n",
    "        factor=False\n",
    "    if factor:\n",
    "        factors.append(s)\n",
    "print factors\n",
    "\n",
    "#Then sort these results ensuring that factors is a list that can be sorted\n",
    "factors.sort"
   ]
  }
 ],
 "metadata": {
  "kernelspec": {
   "display_name": "Python 2",
   "language": "python",
   "name": "python2"
  },
  "language_info": {
   "codemirror_mode": {
    "name": "ipython",
    "version": 2
   },
   "file_extension": ".py",
   "mimetype": "text/x-python",
   "name": "python",
   "nbconvert_exporter": "python",
   "pygments_lexer": "ipython2",
   "version": "2.7.13"
  }
 },
 "nbformat": 4,
 "nbformat_minor": 2
}
